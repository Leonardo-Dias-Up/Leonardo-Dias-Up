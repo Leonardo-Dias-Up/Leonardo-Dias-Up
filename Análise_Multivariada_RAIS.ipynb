{
  "nbformat": 4,
  "nbformat_minor": 0,
  "metadata": {
    "colab": {
      "provenance": [],
      "mount_file_id": "1Q3u4tXklB7-XdKT-bcLngdl6oY0yMN8x",
      "authorship_tag": "ABX9TyPI1nwieDa49w7mq9sk7WJJ",
      "include_colab_link": true
    },
    "kernelspec": {
      "name": "python3",
      "display_name": "Python 3"
    },
    "language_info": {
      "name": "python"
    }
  },
  "cells": [
    {
      "cell_type": "markdown",
      "metadata": {
        "id": "view-in-github",
        "colab_type": "text"
      },
      "source": [
        "<a href=\"https://colab.research.google.com/github/Leonardo-Dias-Up/Leonardo-Dias-Up/blob/main/An%C3%A1lise_Multivariada_RAIS.ipynb\" target=\"_parent\"><img src=\"https://colab.research.google.com/assets/colab-badge.svg\" alt=\"Open In Colab\"/></a>"
      ]
    },
    {
      "cell_type": "code",
      "execution_count": 3,
      "metadata": {
        "id": "3gaXNqkacgA0"
      },
      "outputs": [],
      "source": [
        "import pandas as pd \n",
        "import numpy as np \n",
        "import seaborn as sns\n",
        "import matplotlib as ply"
      ]
    },
    {
      "cell_type": "code",
      "source": [
        "rais_2017 = pd.read_csv(r'/content/drive/MyDrive/Colab Notebooks/Análise Multivariada /rais-2017.csv', sep=';', encoding='UTF-8')\n",
        "rais_2017.head()"
      ],
      "metadata": {
        "id": "vD_-iHAtcwxn"
      },
      "execution_count": null,
      "outputs": []
    },
    {
      "cell_type": "code",
      "source": [
        "rais_2018 = pd.read_csv(r'/content/drive/MyDrive/Colab Notebooks/Análise Multivariada /rais-2018.csv', sep=';', encoding='UTF-8')\n",
        "rais_2018.head()"
      ],
      "metadata": {
        "id": "Q2tOrhsDdhSf"
      },
      "execution_count": null,
      "outputs": []
    },
    {
      "cell_type": "code",
      "source": [
        "rais_2019 = pd.read_csv(r'/content/drive/MyDrive/Colab Notebooks/Análise Multivariada /rais-2019.csv', sep=';', encoding='UTF-8')\n",
        "rais_2019.head()"
      ],
      "metadata": {
        "id": "7mNCk7sidlGn"
      },
      "execution_count": null,
      "outputs": []
    },
    {
      "cell_type": "code",
      "source": [
        "rais_2020 = pd.read_csv(r'/content/drive/MyDrive/Colab Notebooks/Análise Multivariada /rais-2020.csv', sep=';', encoding='UTF-8')\n",
        "rais_2020.head()"
      ],
      "metadata": {
        "id": "nK5NHXGNdnsn"
      },
      "execution_count": null,
      "outputs": []
    },
    {
      "cell_type": "code",
      "source": [
        "micro_meso_reg = pd.read_excel(r'/content/drive/MyDrive/Colab Notebooks/Análise Multivariada /RG2017_micromeso89.xlsx')\n",
        "micro_meso_reg.head()"
      ],
      "metadata": {
        "id": "5oC84JPlduH_"
      },
      "execution_count": null,
      "outputs": []
    },
    {
      "cell_type": "code",
      "source": [
        "nat_juridica = pd.read_excel(r'/content/drive/MyDrive/Colab Notebooks/Análise Multivariada /ID_Natureza_Juridica.xlsx')\n",
        "nat_juridica.head()"
      ],
      "metadata": {
        "id": "szKhKPWFd8iJ"
      },
      "execution_count": null,
      "outputs": []
    },
    {
      "cell_type": "code",
      "source": [
        "cnae2 = pd.read_excel(r'/content/drive/MyDrive/Colab Notebooks/Análise Multivariada /ID_CNAE20_EstruturaDetalhada.xls')"
      ],
      "metadata": {
        "id": "7Mq3oYrreHfx"
      },
      "execution_count": null,
      "outputs": []
    }
  ]
}